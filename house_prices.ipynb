{
 "cells": [
  {
   "cell_type": "markdown",
   "id": "de02b126",
   "metadata": {},
   "source": [
    "# House Prices Regression\n",
    "Ce notebook montre comment prédire le prix des maisons à l'aide d'un dataset Kaggle téléchargé avec `kagglehub`. Nous utilisons à la fois `scikit-learn` et une implémentation personnalisée (from scratch) de la régression linéaire."
   ]
  },
  {
   "cell_type": "code",
   "execution_count": 1,
   "id": "b10ea10e",
   "metadata": {},
   "outputs": [
    {
     "name": "stdout",
     "output_type": "stream",
     "text": [
      "Chemin vers les fichiers du dataset : C:\\Users\\saade\\.cache\\kagglehub\\datasets\\rishitaverma02\\house-prices-advanced-regression-techniques\\versions\\1\n"
     ]
    }
   ],
   "source": [
    "import kagglehub\n",
    "import pandas as pd\n",
    "\n",
    "# Télécharger la dernière version du dataset\n",
    "path = kagglehub.dataset_download(\"rishitaverma02/house-prices-advanced-regression-techniques\")\n",
    "\n",
    "print(\"Chemin vers les fichiers du dataset :\", path)"
   ]
  },
  {
   "cell_type": "code",
   "execution_count": 2,
   "id": "c8b17aab",
   "metadata": {},
   "outputs": [],
   "source": [
    "import numpy as np\n",
    "import matplotlib.pyplot as plt\n",
    "from sklearn.model_selection import train_test_split\n",
    "from sklearn.linear_model import LinearRegression\n",
    "from sklearn.metrics import mean_squared_error\n",
    "from sklearn.preprocessing import StandardScaler"
   ]
  },
  {
   "cell_type": "markdown",
   "id": "628ad522",
   "metadata": {},
   "source": [
    "## 🔹 Chargement du dataset"
   ]
  },
  {
   "cell_type": "code",
   "execution_count": 3,
   "id": "89d8eb2f",
   "metadata": {},
   "outputs": [
    {
     "data": {
      "text/html": [
       "<div>\n",
       "<style scoped>\n",
       "    .dataframe tbody tr th:only-of-type {\n",
       "        vertical-align: middle;\n",
       "    }\n",
       "\n",
       "    .dataframe tbody tr th {\n",
       "        vertical-align: top;\n",
       "    }\n",
       "\n",
       "    .dataframe thead th {\n",
       "        text-align: right;\n",
       "    }\n",
       "</style>\n",
       "<table border=\"1\" class=\"dataframe\">\n",
       "  <thead>\n",
       "    <tr style=\"text-align: right;\">\n",
       "      <th></th>\n",
       "      <th>Id</th>\n",
       "      <th>MSSubClass</th>\n",
       "      <th>MSZoning</th>\n",
       "      <th>LotFrontage</th>\n",
       "      <th>LotArea</th>\n",
       "      <th>Street</th>\n",
       "      <th>Alley</th>\n",
       "      <th>LotShape</th>\n",
       "      <th>LandContour</th>\n",
       "      <th>Utilities</th>\n",
       "      <th>...</th>\n",
       "      <th>PoolArea</th>\n",
       "      <th>PoolQC</th>\n",
       "      <th>Fence</th>\n",
       "      <th>MiscFeature</th>\n",
       "      <th>MiscVal</th>\n",
       "      <th>MoSold</th>\n",
       "      <th>YrSold</th>\n",
       "      <th>SaleType</th>\n",
       "      <th>SaleCondition</th>\n",
       "      <th>SalePrice</th>\n",
       "    </tr>\n",
       "  </thead>\n",
       "  <tbody>\n",
       "    <tr>\n",
       "      <th>0</th>\n",
       "      <td>1</td>\n",
       "      <td>60</td>\n",
       "      <td>RL</td>\n",
       "      <td>65.0</td>\n",
       "      <td>8450</td>\n",
       "      <td>Pave</td>\n",
       "      <td>NaN</td>\n",
       "      <td>Reg</td>\n",
       "      <td>Lvl</td>\n",
       "      <td>AllPub</td>\n",
       "      <td>...</td>\n",
       "      <td>0</td>\n",
       "      <td>NaN</td>\n",
       "      <td>NaN</td>\n",
       "      <td>NaN</td>\n",
       "      <td>0</td>\n",
       "      <td>2</td>\n",
       "      <td>2008</td>\n",
       "      <td>WD</td>\n",
       "      <td>Normal</td>\n",
       "      <td>208500</td>\n",
       "    </tr>\n",
       "    <tr>\n",
       "      <th>1</th>\n",
       "      <td>2</td>\n",
       "      <td>20</td>\n",
       "      <td>RL</td>\n",
       "      <td>80.0</td>\n",
       "      <td>9600</td>\n",
       "      <td>Pave</td>\n",
       "      <td>NaN</td>\n",
       "      <td>Reg</td>\n",
       "      <td>Lvl</td>\n",
       "      <td>AllPub</td>\n",
       "      <td>...</td>\n",
       "      <td>0</td>\n",
       "      <td>NaN</td>\n",
       "      <td>NaN</td>\n",
       "      <td>NaN</td>\n",
       "      <td>0</td>\n",
       "      <td>5</td>\n",
       "      <td>2007</td>\n",
       "      <td>WD</td>\n",
       "      <td>Normal</td>\n",
       "      <td>181500</td>\n",
       "    </tr>\n",
       "    <tr>\n",
       "      <th>2</th>\n",
       "      <td>3</td>\n",
       "      <td>60</td>\n",
       "      <td>RL</td>\n",
       "      <td>68.0</td>\n",
       "      <td>11250</td>\n",
       "      <td>Pave</td>\n",
       "      <td>NaN</td>\n",
       "      <td>IR1</td>\n",
       "      <td>Lvl</td>\n",
       "      <td>AllPub</td>\n",
       "      <td>...</td>\n",
       "      <td>0</td>\n",
       "      <td>NaN</td>\n",
       "      <td>NaN</td>\n",
       "      <td>NaN</td>\n",
       "      <td>0</td>\n",
       "      <td>9</td>\n",
       "      <td>2008</td>\n",
       "      <td>WD</td>\n",
       "      <td>Normal</td>\n",
       "      <td>223500</td>\n",
       "    </tr>\n",
       "    <tr>\n",
       "      <th>3</th>\n",
       "      <td>4</td>\n",
       "      <td>70</td>\n",
       "      <td>RL</td>\n",
       "      <td>60.0</td>\n",
       "      <td>9550</td>\n",
       "      <td>Pave</td>\n",
       "      <td>NaN</td>\n",
       "      <td>IR1</td>\n",
       "      <td>Lvl</td>\n",
       "      <td>AllPub</td>\n",
       "      <td>...</td>\n",
       "      <td>0</td>\n",
       "      <td>NaN</td>\n",
       "      <td>NaN</td>\n",
       "      <td>NaN</td>\n",
       "      <td>0</td>\n",
       "      <td>2</td>\n",
       "      <td>2006</td>\n",
       "      <td>WD</td>\n",
       "      <td>Abnorml</td>\n",
       "      <td>140000</td>\n",
       "    </tr>\n",
       "    <tr>\n",
       "      <th>4</th>\n",
       "      <td>5</td>\n",
       "      <td>60</td>\n",
       "      <td>RL</td>\n",
       "      <td>84.0</td>\n",
       "      <td>14260</td>\n",
       "      <td>Pave</td>\n",
       "      <td>NaN</td>\n",
       "      <td>IR1</td>\n",
       "      <td>Lvl</td>\n",
       "      <td>AllPub</td>\n",
       "      <td>...</td>\n",
       "      <td>0</td>\n",
       "      <td>NaN</td>\n",
       "      <td>NaN</td>\n",
       "      <td>NaN</td>\n",
       "      <td>0</td>\n",
       "      <td>12</td>\n",
       "      <td>2008</td>\n",
       "      <td>WD</td>\n",
       "      <td>Normal</td>\n",
       "      <td>250000</td>\n",
       "    </tr>\n",
       "  </tbody>\n",
       "</table>\n",
       "<p>5 rows × 81 columns</p>\n",
       "</div>"
      ],
      "text/plain": [
       "   Id  MSSubClass MSZoning  LotFrontage  LotArea Street Alley LotShape  \\\n",
       "0   1          60       RL         65.0     8450   Pave   NaN      Reg   \n",
       "1   2          20       RL         80.0     9600   Pave   NaN      Reg   \n",
       "2   3          60       RL         68.0    11250   Pave   NaN      IR1   \n",
       "3   4          70       RL         60.0     9550   Pave   NaN      IR1   \n",
       "4   5          60       RL         84.0    14260   Pave   NaN      IR1   \n",
       "\n",
       "  LandContour Utilities  ... PoolArea PoolQC Fence MiscFeature MiscVal MoSold  \\\n",
       "0         Lvl    AllPub  ...        0    NaN   NaN         NaN       0      2   \n",
       "1         Lvl    AllPub  ...        0    NaN   NaN         NaN       0      5   \n",
       "2         Lvl    AllPub  ...        0    NaN   NaN         NaN       0      9   \n",
       "3         Lvl    AllPub  ...        0    NaN   NaN         NaN       0      2   \n",
       "4         Lvl    AllPub  ...        0    NaN   NaN         NaN       0     12   \n",
       "\n",
       "  YrSold  SaleType  SaleCondition  SalePrice  \n",
       "0   2008        WD         Normal     208500  \n",
       "1   2007        WD         Normal     181500  \n",
       "2   2008        WD         Normal     223500  \n",
       "3   2006        WD        Abnorml     140000  \n",
       "4   2008        WD         Normal     250000  \n",
       "\n",
       "[5 rows x 81 columns]"
      ]
     },
     "execution_count": 3,
     "metadata": {},
     "output_type": "execute_result"
    }
   ],
   "source": [
    "df = pd.read_csv(path + \"/train (1).csv\")\n",
    "df.head()"
   ]
  },
  {
   "cell_type": "markdown",
   "id": "c14d5912",
   "metadata": {},
   "source": [
    "## 🔹 Sélection des variables pertinentes"
   ]
  },
  {
   "cell_type": "code",
   "execution_count": 4,
   "id": "76376bea",
   "metadata": {},
   "outputs": [],
   "source": [
    "# On sélectionne quelques variables numériques simples\n",
    "df = df[[\"GrLivArea\", \"OverallQual\", \"TotalBsmtSF\", \"SalePrice\"]].dropna()\n",
    "\n",
    "X = df[[\"GrLivArea\", \"OverallQual\", \"TotalBsmtSF\"]]\n",
    "y = df[\"SalePrice\"]"
   ]
  },
  {
   "cell_type": "markdown",
   "id": "19216d20",
   "metadata": {},
   "source": [
    "## 🔹 Séparation des données en entraînement et test"
   ]
  },
  {
   "cell_type": "code",
   "execution_count": 5,
   "id": "a9392acf",
   "metadata": {},
   "outputs": [],
   "source": [
    "X_train, X_test, y_train, y_test = train_test_split(X, y, test_size=0.2, random_state=42)"
   ]
  },
  {
   "cell_type": "markdown",
   "id": "a4c1fffd",
   "metadata": {},
   "source": [
    "## 🔹 Régression linéaire avec `scikit-learn`"
   ]
  },
  {
   "cell_type": "code",
   "execution_count": 6,
   "id": "45cbfaa7",
   "metadata": {},
   "outputs": [
    {
     "name": "stdout",
     "output_type": "stream",
     "text": [
      "Intercept : -98427.32987875512\n",
      "Coefficients : [   47.13601888 28203.61010365    33.17354342]\n",
      "MSE avec sklearn : 1667657527.16\n"
     ]
    }
   ],
   "source": [
    "model = LinearRegression()\n",
    "model.fit(X_train, y_train)\n",
    "\n",
    "print(\"Intercept :\", model.intercept_)\n",
    "print(\"Coefficients :\", model.coef_)\n",
    "\n",
    "y_pred_sklearn = model.predict(X_test)\n",
    "mse_sklearn = mean_squared_error(y_test, y_pred_sklearn)\n",
    "print(\"MSE avec sklearn :\", round(mse_sklearn, 2))"
   ]
  },
  {
   "cell_type": "markdown",
   "id": "d9f3bbf6",
   "metadata": {},
   "source": [
    "## 🔹 Normalisation des données pour la descente de gradient"
   ]
  },
  {
   "cell_type": "code",
   "execution_count": 7,
   "id": "fa3029fd",
   "metadata": {},
   "outputs": [],
   "source": [
    "scaler = StandardScaler()\n",
    "X_scaled = scaler.fit_transform(X)\n",
    "X_train, X_test, y_train, y_test = train_test_split(X_scaled, y, test_size=0.2, random_state=42)\n",
    "\n",
    "X1_train, X2_train, X3_train = X_train[:, 0], X_train[:, 1], X_train[:, 2]"
   ]
  },
  {
   "cell_type": "markdown",
   "id": "9e37e4f2",
   "metadata": {},
   "source": [
    "## 🔹 Implémentation de la régression linéaire from scratch"
   ]
  },
  {
   "cell_type": "code",
   "execution_count": 8,
   "id": "276bf3fc",
   "metadata": {},
   "outputs": [
    {
     "name": "stdout",
     "output_type": "stream",
     "text": [
      "Époque 0 : MSE = 38885583525.71\n",
      "Époque 100 : MSE = 2206370574.29\n",
      "Époque 200 : MSE = 1636708059.91\n",
      "Époque 300 : MSE = 1624190461.73\n",
      "Époque 400 : MSE = 1623478312.98\n",
      "Époque 500 : MSE = 1623367446.67\n",
      "Époque 600 : MSE = 1623345654.31\n",
      "Époque 700 : MSE = 1623341248.49\n",
      "Époque 800 : MSE = 1623340353.52\n",
      "Époque 900 : MSE = 1623340171.43\n"
     ]
    }
   ],
   "source": [
    "n = len(y_train)\n",
    "learning_rate = 0.01\n",
    "epochs = 1000\n",
    "\n",
    "bias = 0\n",
    "w1, w2, w3 = 0, 0, 0\n",
    "\n",
    "for i in range(epochs):\n",
    "    yhat = bias + w1*X1_train + w2*X2_train + w3*X3_train\n",
    "    mse = mean_squared_error(y_train, yhat)\n",
    "    if i % 100 == 0:\n",
    "        print(f\"Époque {i} : MSE = {round(mse, 2)}\")\n",
    "    \n",
    "    grad_b = -(2/n) * np.sum(y_train - yhat)\n",
    "    grad_w1 = -(2/n) * np.sum(X1_train * (y_train - yhat))\n",
    "    grad_w2 = -(2/n) * np.sum(X2_train * (y_train - yhat))\n",
    "    grad_w3 = -(2/n) * np.sum(X3_train * (y_train - yhat))\n",
    "    \n",
    "    bias -= learning_rate * grad_b\n",
    "    w1 -= learning_rate * grad_w1\n",
    "    w2 -= learning_rate * grad_w2\n",
    "    w3 -= learning_rate * grad_w3"
   ]
  },
  {
   "cell_type": "code",
   "execution_count": 9,
   "id": "3abade8c",
   "metadata": {},
   "outputs": [
    {
     "name": "stdout",
     "output_type": "stream",
     "text": [
      "MSE from scratch : 1667634641.01\n"
     ]
    }
   ],
   "source": [
    "X1_test, X2_test, X3_test = X_test[:, 0], X_test[:, 1], X_test[:, 2]\n",
    "y_pred_scratch = bias + w1*X1_test + w2*X2_test + w3*X3_test\n",
    "mse_scratch = mean_squared_error(y_test, y_pred_scratch)\n",
    "print(\"MSE from scratch :\", round(mse_scratch, 2))"
   ]
  },
  {
   "cell_type": "markdown",
   "id": "fad5cd7b",
   "metadata": {},
   "source": [
    "## ✅ Conclusion\n",
    "- Le modèle `sklearn` permet une régression rapide et optimisée.\n",
    "- L'approche manuelle (from scratch) avec descente de gradient permet de mieux comprendre le fonctionnement mathématique de la régression.\n",
    "- Les deux MSE sont proches, cela signifie que l’implémentation from scratch est correcte."
   ]
  },
  {
   "cell_type": "markdown",
   "id": "8ea7dc94",
   "metadata": {},
   "source": []
  }
 ],
 "metadata": {
  "kernelspec": {
   "display_name": "Python 3",
   "language": "python",
   "name": "python3"
  },
  "language_info": {
   "codemirror_mode": {
    "name": "ipython",
    "version": 3
   },
   "file_extension": ".py",
   "mimetype": "text/x-python",
   "name": "python",
   "nbconvert_exporter": "python",
   "pygments_lexer": "ipython3",
   "version": "3.12.10"
  }
 },
 "nbformat": 4,
 "nbformat_minor": 5
}
