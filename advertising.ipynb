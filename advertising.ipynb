{
 "cells": [
  {
   "cell_type": "markdown",
   "id": "d586d111",
   "metadata": {},
   "source": [
    "# 📊 Analyse des dépenses publicitaires et des ventes\n",
    "Ce notebook applique une **régression linéaire multiple** pour prédire les ventes en fonction des dépenses publicitaires en TV, Radio, et Journaux."
   ]
  },
  {
   "cell_type": "code",
   "execution_count": 3,
   "id": "3295afc2",
   "metadata": {},
   "outputs": [],
   "source": [
    "import pandas as pd\n",
    "import numpy as np\n",
    "from sklearn.model_selection import train_test_split\n",
    "from sklearn.linear_model import LinearRegression\n",
    "from sklearn.metrics import mean_squared_error, mean_absolute_error, r2_score\n",
    "from sklearn.preprocessing import StandardScaler"
   ]
  },
  {
   "cell_type": "markdown",
   "id": "abdf523c",
   "metadata": {},
   "source": [
    "## 🔹 Chargement des données"
   ]
  },
  {
   "cell_type": "code",
   "execution_count": 4,
   "id": "659d2fe5",
   "metadata": {},
   "outputs": [
    {
     "data": {
      "text/html": [
       "<div>\n",
       "<style scoped>\n",
       "    .dataframe tbody tr th:only-of-type {\n",
       "        vertical-align: middle;\n",
       "    }\n",
       "\n",
       "    .dataframe tbody tr th {\n",
       "        vertical-align: top;\n",
       "    }\n",
       "\n",
       "    .dataframe thead th {\n",
       "        text-align: right;\n",
       "    }\n",
       "</style>\n",
       "<table border=\"1\" class=\"dataframe\">\n",
       "  <thead>\n",
       "    <tr style=\"text-align: right;\">\n",
       "      <th></th>\n",
       "      <th>TV</th>\n",
       "      <th>Radio</th>\n",
       "      <th>Newspaper</th>\n",
       "      <th>Sales</th>\n",
       "    </tr>\n",
       "  </thead>\n",
       "  <tbody>\n",
       "    <tr>\n",
       "      <th>1</th>\n",
       "      <td>230.1</td>\n",
       "      <td>37.8</td>\n",
       "      <td>69.2</td>\n",
       "      <td>22.1</td>\n",
       "    </tr>\n",
       "    <tr>\n",
       "      <th>2</th>\n",
       "      <td>44.5</td>\n",
       "      <td>39.3</td>\n",
       "      <td>45.1</td>\n",
       "      <td>10.4</td>\n",
       "    </tr>\n",
       "    <tr>\n",
       "      <th>3</th>\n",
       "      <td>17.2</td>\n",
       "      <td>45.9</td>\n",
       "      <td>69.3</td>\n",
       "      <td>9.3</td>\n",
       "    </tr>\n",
       "    <tr>\n",
       "      <th>4</th>\n",
       "      <td>151.5</td>\n",
       "      <td>41.3</td>\n",
       "      <td>58.5</td>\n",
       "      <td>18.5</td>\n",
       "    </tr>\n",
       "    <tr>\n",
       "      <th>5</th>\n",
       "      <td>180.8</td>\n",
       "      <td>10.8</td>\n",
       "      <td>58.4</td>\n",
       "      <td>12.9</td>\n",
       "    </tr>\n",
       "  </tbody>\n",
       "</table>\n",
       "</div>"
      ],
      "text/plain": [
       "      TV  Radio  Newspaper  Sales\n",
       "1  230.1   37.8       69.2   22.1\n",
       "2   44.5   39.3       45.1   10.4\n",
       "3   17.2   45.9       69.3    9.3\n",
       "4  151.5   41.3       58.5   18.5\n",
       "5  180.8   10.8       58.4   12.9"
      ]
     },
     "execution_count": 4,
     "metadata": {},
     "output_type": "execute_result"
    }
   ],
   "source": [
    "dataset = pd.read_csv(\"Advertising.csv\", index_col=0)\n",
    "dataset.head()"
   ]
  },
  {
   "cell_type": "markdown",
   "id": "9c54f508",
   "metadata": {},
   "source": [
    "## 🔹 Séparation des variables"
   ]
  },
  {
   "cell_type": "code",
   "execution_count": null,
   "id": "683c44f0",
   "metadata": {},
   "outputs": [
    {
     "data": {
      "text/plain": [
       "1      22.1\n",
       "2      10.4\n",
       "3       9.3\n",
       "4      18.5\n",
       "5      12.9\n",
       "       ... \n",
       "196     7.6\n",
       "197     9.7\n",
       "198    12.8\n",
       "199    25.5\n",
       "200    13.4\n",
       "Name: Sales, Length: 200, dtype: float64"
      ]
     },
     "execution_count": 5,
     "metadata": {},
     "output_type": "execute_result"
    }
   ],
   "source": [
    "X = dataset.iloc[:, :3]  # TV, Radio, Newspaper\n",
    "y = dataset.iloc[:, 3]   # Sales\n"
   ]
  },
  {
   "cell_type": "markdown",
   "id": "73c208a0",
   "metadata": {},
   "source": [
    "## 🔹 Séparation des données (train/test)"
   ]
  },
  {
   "cell_type": "code",
   "execution_count": 4,
   "id": "09371534",
   "metadata": {},
   "outputs": [],
   "source": [
    "X_train, X_test, y_train, y_test = train_test_split(X, y, test_size=0.2, random_state=23)"
   ]
  },
  {
   "cell_type": "markdown",
   "id": "7fa547b3",
   "metadata": {},
   "source": [
    "## 🔹 Régression linéaire avec `scikit-learn`"
   ]
  },
  {
   "cell_type": "code",
   "execution_count": 5,
   "id": "128c45d3",
   "metadata": {},
   "outputs": [
    {
     "name": "stdout",
     "output_type": "stream",
     "text": [
      "Intercept (biais) : 2.9281328114225094\n",
      "Poids (coefficients) : [4.64851464e-02 1.81416165e-01 7.90438566e-05]\n",
      "MSE (sklearn) : 2.82\n"
     ]
    }
   ],
   "source": [
    "model = LinearRegression()\n",
    "model.fit(X_train, y_train)\n",
    "\n",
    "bias = model.intercept_\n",
    "W = model.coef_\n",
    "print(\"Intercept (biais) :\", bias)\n",
    "print(\"Poids (coefficients) :\", W)\n",
    "\n",
    "yhat_sklearn = model.predict(X_test)\n",
    "mse1 = mean_squared_error(y_test, yhat_sklearn)\n",
    "print(\"MSE (sklearn) :\", round(mse1, 2))"
   ]
  },
  {
   "cell_type": "markdown",
   "id": "4b0218e7",
   "metadata": {},
   "source": [
    "## 🔹 Standardisation des données pour le modèle from scratch"
   ]
  },
  {
   "cell_type": "code",
   "execution_count": 6,
   "id": "6d211e9a",
   "metadata": {},
   "outputs": [],
   "source": [
    "scaler = StandardScaler()\n",
    "X_scaled = scaler.fit_transform(X)\n",
    "\n",
    "X_train, X_test, y_train, y_test = train_test_split(X_scaled, y, test_size=0.2, random_state=23)\n",
    "\n",
    "X1_train, X2_train, X3_train = X_train[:,0], X_train[:,1], X_train[:,2]"
   ]
  },
  {
   "cell_type": "markdown",
   "id": "98dfe38f",
   "metadata": {},
   "source": [
    "## 🔹 Implémentation from scratch avec descente de gradient"
   ]
  },
  {
   "cell_type": "code",
   "execution_count": 7,
   "id": "7cc55929",
   "metadata": {},
   "outputs": [
    {
     "name": "stdout",
     "output_type": "stream",
     "text": [
      "it:0 --> MSE: 186.04\n",
      "it:100 --> MSE: 6.34\n",
      "it:200 --> MSE: 2.87\n",
      "it:300 --> MSE: 2.8\n",
      "it:400 --> MSE: 2.79\n",
      "it:500 --> MSE: 2.79\n",
      "it:600 --> MSE: 2.79\n",
      "it:700 --> MSE: 2.79\n",
      "it:800 --> MSE: 2.79\n",
      "it:900 --> MSE: 2.79\n"
     ]
    }
   ],
   "source": [
    "n = len(y_train)\n",
    "learning_rate = 0.01\n",
    "epochs = 1000\n",
    "\n",
    "bias = 1\n",
    "w1, w2, w3 = 1, 2, 3\n",
    "\n",
    "for it in range(epochs):\n",
    "    yhat = bias + w1 * X1_train + w2 * X2_train + w3 * X3_train\n",
    "    mse = mean_squared_error(y_train, yhat)\n",
    "    if it % 100 == 0:\n",
    "        print(f\"it:{it} --> MSE: {round(mse, 2)}\")\n",
    "\n",
    "    gradient_bias = -(2/n) * np.sum(y_train - yhat)\n",
    "    gradient_w1 = -(2/n) * np.sum(X1_train * (y_train - yhat))\n",
    "    gradient_w2 = -(2/n) * np.sum(X2_train * (y_train - yhat))\n",
    "    gradient_w3 = -(2/n) * np.sum(X3_train * (y_train - yhat))\n",
    "\n",
    "    bias -= learning_rate * gradient_bias\n",
    "    w1 -= learning_rate * gradient_w1\n",
    "    w2 -= learning_rate * gradient_w2\n",
    "    w3 -= learning_rate * gradient_w3"
   ]
  },
  {
   "cell_type": "code",
   "execution_count": 8,
   "id": "2b441e4f",
   "metadata": {},
   "outputs": [
    {
     "name": "stdout",
     "output_type": "stream",
     "text": [
      "MSE (from scratch) : 2.82\n"
     ]
    }
   ],
   "source": [
    "X1_test, X2_test, X3_test = X_test[:,0], X_test[:,1], X_test[:,2]\n",
    "yhat_scratch = bias + w1 * X1_test + w2 * X2_test + w3 * X3_test\n",
    "mse2 = mean_squared_error(y_test, yhat_scratch)\n",
    "print(\"MSE (from scratch) :\", round(mse2, 2))"
   ]
  },
  {
   "cell_type": "markdown",
   "id": "e3066187",
   "metadata": {},
   "source": [
    "## ✅ Conclusion\n",
    "- Le modèle `sklearn` donne un MSE bas grâce à une optimisation interne efficace.\n",
    "- Le modèle **from scratch** obtient un MSE similaire si l'apprentissage est bien fait, prouvant que la descente de gradient fonctionne.\n",
    "- Cette approche nous aide à comprendre **comment fonctionne réellement l'entraînement d'un modèle linéaire**."
   ]
  }
 ],
 "metadata": {
  "kernelspec": {
   "display_name": "Python 3",
   "language": "python",
   "name": "python3"
  },
  "language_info": {
   "codemirror_mode": {
    "name": "ipython",
    "version": 3
   },
   "file_extension": ".py",
   "mimetype": "text/x-python",
   "name": "python",
   "nbconvert_exporter": "python",
   "pygments_lexer": "ipython3",
   "version": "3.12.10"
  }
 },
 "nbformat": 4,
 "nbformat_minor": 5
}
